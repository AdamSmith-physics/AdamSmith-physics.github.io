{
 "cells": [
  {
   "cell_type": "code",
   "execution_count": 1,
   "metadata": {},
   "outputs": [],
   "source": [
    "import numpy as np\n",
    "from matplotlib import pyplot as plt"
   ]
  },
  {
   "cell_type": "code",
   "execution_count": 2,
   "metadata": {},
   "outputs": [],
   "source": [
    "cnn_avg = np.loadtxt('CNN_avg.txt')\n",
    "cnn_std = np.loadtxt('CNN_std.txt')\n",
    "dense_avg = np.loadtxt('Dense_avg.txt')\n",
    "dense_std = np.loadtxt('Dense_std.txt')\n",
    "\n",
    "cnn_runs = np.loadtxt('CNN_runs.txt')\n",
    "dense_runs = np.loadtxt('Dense_runs.txt')\n",
    "\n",
    "epochs = len(cnn_avg)"
   ]
  }
 ],
 "metadata": {
  "kernelspec": {
   "display_name": "keras",
   "language": "python",
   "name": "python3"
  },
  "language_info": {
   "codemirror_mode": {
    "name": "ipython",
    "version": 3
   },
   "file_extension": ".py",
   "mimetype": "text/x-python",
   "name": "python",
   "nbconvert_exporter": "python",
   "pygments_lexer": "ipython3",
   "version": "3.10.16"
  }
 },
 "nbformat": 4,
 "nbformat_minor": 2
}
